{
  "nbformat": 4,
  "nbformat_minor": 0,
  "metadata": {
    "colab": {
      "name": "pandas",
      "provenance": [],
      "collapsed_sections": []
    },
    "kernelspec": {
      "name": "python3",
      "display_name": "Python 3"
    }
  },
  "cells": [
    {
      "cell_type": "code",
      "metadata": {
        "id": "0d1B5cajlST3"
      },
      "source": [
        "import pandas as pd"
      ],
      "execution_count": 1,
      "outputs": []
    },
    {
      "cell_type": "code",
      "metadata": {
        "id": "xmMJbso1lVNg"
      },
      "source": [
        "def read_from_url(url):\r\n",
        "    if url.endswith('.csv'):\r\n",
        "        df = pd.read_csv(url)\r\n",
        "        return df\r\n",
        "    else:\r\n",
        "        raise Exception('URL not in .csv format !!')"
      ],
      "execution_count": 15,
      "outputs": []
    },
    {
      "cell_type": "code",
      "metadata": {
        "id": "ojZHCHPglcEe"
      },
      "source": [
        "url = 'https://raw.githubusercontent.com/usama6naseer/largest_object/master/log.csv'"
      ],
      "execution_count": 16,
      "outputs": []
    },
    {
      "cell_type": "code",
      "metadata": {
        "colab": {
          "base_uri": "https://localhost:8080/"
        },
        "id": "6lrb3Zxtljou",
        "outputId": "29be6dde-c6de-4542-9ca3-6fd506ac947e"
      },
      "source": [
        "data_frame = read_from_url(url)\r\n",
        "print(data_frame.head(5))"
      ],
      "execution_count": 17,
      "outputs": [
        {
          "output_type": "stream",
          "text": [
            "    9       qq.com\n",
            "0  11   taobao.com\n",
            "1  12  twitter.com\n",
            "2  15       vk.com\n",
            "3  16     live.com\n",
            "4  21    weibo.com\n"
          ],
          "name": "stdout"
        }
      ]
    }
  ]
}