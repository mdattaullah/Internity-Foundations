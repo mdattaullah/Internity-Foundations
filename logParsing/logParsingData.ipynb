{
  "nbformat": 4,
  "nbformat_minor": 0,
  "metadata": {
    "colab": {
      "name": "logParsingData.ipynb",
      "provenance": [],
      "collapsed_sections": []
    },
    "kernelspec": {
      "name": "python3",
      "display_name": "Python 3"
    },
    "widgets": {
      "application/vnd.jupyter.widget-state+json": {
        "bb872f47b0d94a54b9320071093892c3": {
          "model_module": "@jupyter-widgets/controls",
          "model_name": "HBoxModel",
          "state": {
            "_view_name": "HBoxView",
            "_dom_classes": [],
            "_model_name": "HBoxModel",
            "_view_module": "@jupyter-widgets/controls",
            "_model_module_version": "1.5.0",
            "_view_count": null,
            "_view_module_version": "1.5.0",
            "box_style": "",
            "layout": "IPY_MODEL_fc12c88b5c764d4abd9f404bf8deb6d9",
            "_model_module": "@jupyter-widgets/controls",
            "children": [
              "IPY_MODEL_f56cfa6f6d804ee5935cfbebc19d0b44",
              "IPY_MODEL_32a3c76860764710941b70d786fe65e5"
            ]
          }
        },
        "fc12c88b5c764d4abd9f404bf8deb6d9": {
          "model_module": "@jupyter-widgets/base",
          "model_name": "LayoutModel",
          "state": {
            "_view_name": "LayoutView",
            "grid_template_rows": null,
            "right": null,
            "justify_content": null,
            "_view_module": "@jupyter-widgets/base",
            "overflow": null,
            "_model_module_version": "1.2.0",
            "_view_count": null,
            "flex_flow": null,
            "width": null,
            "min_width": null,
            "border": null,
            "align_items": null,
            "bottom": null,
            "_model_module": "@jupyter-widgets/base",
            "top": null,
            "grid_column": null,
            "overflow_y": null,
            "overflow_x": null,
            "grid_auto_flow": null,
            "grid_area": null,
            "grid_template_columns": null,
            "flex": null,
            "_model_name": "LayoutModel",
            "justify_items": null,
            "grid_row": null,
            "max_height": null,
            "align_content": null,
            "visibility": null,
            "align_self": null,
            "height": null,
            "min_height": null,
            "padding": null,
            "grid_auto_rows": null,
            "grid_gap": null,
            "max_width": null,
            "order": null,
            "_view_module_version": "1.2.0",
            "grid_template_areas": null,
            "object_position": null,
            "object_fit": null,
            "grid_auto_columns": null,
            "margin": null,
            "display": null,
            "left": null
          }
        },
        "f56cfa6f6d804ee5935cfbebc19d0b44": {
          "model_module": "@jupyter-widgets/controls",
          "model_name": "FloatProgressModel",
          "state": {
            "_view_name": "ProgressView",
            "style": "IPY_MODEL_44b4ca0402604eee98a9c19a82a844f9",
            "_dom_classes": [],
            "description": "100%",
            "_model_name": "FloatProgressModel",
            "bar_style": "success",
            "max": 172,
            "_view_module": "@jupyter-widgets/controls",
            "_model_module_version": "1.5.0",
            "value": 172,
            "_view_count": null,
            "_view_module_version": "1.5.0",
            "orientation": "horizontal",
            "min": 0,
            "description_tooltip": null,
            "_model_module": "@jupyter-widgets/controls",
            "layout": "IPY_MODEL_6a2c0ccf7be4431baaa62896faaac6c3"
          }
        },
        "32a3c76860764710941b70d786fe65e5": {
          "model_module": "@jupyter-widgets/controls",
          "model_name": "HTMLModel",
          "state": {
            "_view_name": "HTMLView",
            "style": "IPY_MODEL_72028adbc13249ce88b6c1f59d3305a2",
            "_dom_classes": [],
            "description": "",
            "_model_name": "HTMLModel",
            "placeholder": "​",
            "_view_module": "@jupyter-widgets/controls",
            "_model_module_version": "1.5.0",
            "value": " 172/172 [01:44&lt;00:00,  1.65it/s]",
            "_view_count": null,
            "_view_module_version": "1.5.0",
            "description_tooltip": null,
            "_model_module": "@jupyter-widgets/controls",
            "layout": "IPY_MODEL_0bf12fb74fc44a88b678f7f7d8dc98e0"
          }
        },
        "44b4ca0402604eee98a9c19a82a844f9": {
          "model_module": "@jupyter-widgets/controls",
          "model_name": "ProgressStyleModel",
          "state": {
            "_view_name": "StyleView",
            "_model_name": "ProgressStyleModel",
            "description_width": "initial",
            "_view_module": "@jupyter-widgets/base",
            "_model_module_version": "1.5.0",
            "_view_count": null,
            "_view_module_version": "1.2.0",
            "bar_color": null,
            "_model_module": "@jupyter-widgets/controls"
          }
        },
        "6a2c0ccf7be4431baaa62896faaac6c3": {
          "model_module": "@jupyter-widgets/base",
          "model_name": "LayoutModel",
          "state": {
            "_view_name": "LayoutView",
            "grid_template_rows": null,
            "right": null,
            "justify_content": null,
            "_view_module": "@jupyter-widgets/base",
            "overflow": null,
            "_model_module_version": "1.2.0",
            "_view_count": null,
            "flex_flow": null,
            "width": null,
            "min_width": null,
            "border": null,
            "align_items": null,
            "bottom": null,
            "_model_module": "@jupyter-widgets/base",
            "top": null,
            "grid_column": null,
            "overflow_y": null,
            "overflow_x": null,
            "grid_auto_flow": null,
            "grid_area": null,
            "grid_template_columns": null,
            "flex": null,
            "_model_name": "LayoutModel",
            "justify_items": null,
            "grid_row": null,
            "max_height": null,
            "align_content": null,
            "visibility": null,
            "align_self": null,
            "height": null,
            "min_height": null,
            "padding": null,
            "grid_auto_rows": null,
            "grid_gap": null,
            "max_width": null,
            "order": null,
            "_view_module_version": "1.2.0",
            "grid_template_areas": null,
            "object_position": null,
            "object_fit": null,
            "grid_auto_columns": null,
            "margin": null,
            "display": null,
            "left": null
          }
        },
        "72028adbc13249ce88b6c1f59d3305a2": {
          "model_module": "@jupyter-widgets/controls",
          "model_name": "DescriptionStyleModel",
          "state": {
            "_view_name": "StyleView",
            "_model_name": "DescriptionStyleModel",
            "description_width": "",
            "_view_module": "@jupyter-widgets/base",
            "_model_module_version": "1.5.0",
            "_view_count": null,
            "_view_module_version": "1.2.0",
            "_model_module": "@jupyter-widgets/controls"
          }
        },
        "0bf12fb74fc44a88b678f7f7d8dc98e0": {
          "model_module": "@jupyter-widgets/base",
          "model_name": "LayoutModel",
          "state": {
            "_view_name": "LayoutView",
            "grid_template_rows": null,
            "right": null,
            "justify_content": null,
            "_view_module": "@jupyter-widgets/base",
            "overflow": null,
            "_model_module_version": "1.2.0",
            "_view_count": null,
            "flex_flow": null,
            "width": null,
            "min_width": null,
            "border": null,
            "align_items": null,
            "bottom": null,
            "_model_module": "@jupyter-widgets/base",
            "top": null,
            "grid_column": null,
            "overflow_y": null,
            "overflow_x": null,
            "grid_auto_flow": null,
            "grid_area": null,
            "grid_template_columns": null,
            "flex": null,
            "_model_name": "LayoutModel",
            "justify_items": null,
            "grid_row": null,
            "max_height": null,
            "align_content": null,
            "visibility": null,
            "align_self": null,
            "height": null,
            "min_height": null,
            "padding": null,
            "grid_auto_rows": null,
            "grid_gap": null,
            "max_width": null,
            "order": null,
            "_view_module_version": "1.2.0",
            "grid_template_areas": null,
            "object_position": null,
            "object_fit": null,
            "grid_auto_columns": null,
            "margin": null,
            "display": null,
            "left": null
          }
        }
      }
    }
  },
  "cells": [
    {
      "cell_type": "code",
      "metadata": {
        "colab": {
          "base_uri": "https://localhost:8080/"
        },
        "id": "7hAQdWA5wnq5",
        "outputId": "8caf0a20-93e3-4921-d6f4-f56800445b78"
      },
      "source": [
        "!pip install pycountry"
      ],
      "execution_count": 49,
      "outputs": [
        {
          "output_type": "stream",
          "text": [
            "Collecting pycountry\n",
            "\u001b[?25l  Downloading https://files.pythonhosted.org/packages/76/73/6f1a412f14f68c273feea29a6ea9b9f1e268177d32e0e69ad6790d306312/pycountry-20.7.3.tar.gz (10.1MB)\n",
            "\u001b[K     |████████████████████████████████| 10.1MB 3.4MB/s \n",
            "\u001b[?25hBuilding wheels for collected packages: pycountry\n",
            "  Building wheel for pycountry (setup.py) ... \u001b[?25l\u001b[?25hdone\n",
            "  Created wheel for pycountry: filename=pycountry-20.7.3-py2.py3-none-any.whl size=10746863 sha256=f380c316b627a2ef9d54d98bd9d3cc67d41ebac166c8cbef8dbc059f5dbfc6ac\n",
            "  Stored in directory: /root/.cache/pip/wheels/33/4e/a6/be297e6b83567e537bed9df4a93f8590ec01c1acfbcd405348\n",
            "Successfully built pycountry\n",
            "Installing collected packages: pycountry\n",
            "Successfully installed pycountry-20.7.3\n"
          ],
          "name": "stdout"
        }
      ]
    },
    {
      "cell_type": "markdown",
      "metadata": {
        "id": "dqCExEkX0DbG"
      },
      "source": [
        "**Modules:**"
      ]
    },
    {
      "cell_type": "code",
      "metadata": {
        "id": "1tIVHbiKq5Kk"
      },
      "source": [
        "import pandas as pd\r\n",
        "from bs4 import BeautifulSoup as bs\r\n",
        "import requests\r\n",
        "import urllib.request\r\n",
        "import json\r\n",
        "import pycountry \r\n",
        "import matplotlib.pyplot as plt"
      ],
      "execution_count": 168,
      "outputs": []
    },
    {
      "cell_type": "markdown",
      "metadata": {
        "id": "CAphzZQm0FjK"
      },
      "source": [
        "**Reading HTML to DataFrame:**"
      ]
    },
    {
      "cell_type": "code",
      "metadata": {
        "id": "FiQk6DQvq8st"
      },
      "source": [
        "def html_to_df(url: str, clean_empty = False):\r\n",
        "    html_content = requests.get(url).text\r\n",
        "    soup = bs(html_content, \"lxml\")\r\n",
        "    table = str(soup.find(\"table\"))\r\n",
        "    df = pd.read_html(table)[0]\r\n",
        "    return df"
      ],
      "execution_count": 169,
      "outputs": []
    },
    {
      "cell_type": "code",
      "metadata": {
        "id": "baiiWRaPq-sR"
      },
      "source": [
        "url = \"https://github.com/robert456456456456/Web_server_log_parser/blob/master/devops.log\""
      ],
      "execution_count": 170,
      "outputs": []
    },
    {
      "cell_type": "code",
      "metadata": {
        "colab": {
          "base_uri": "https://localhost:8080/"
        },
        "id": "cpyoKMiWyZdW",
        "outputId": "1c261030-695c-4342-9cc2-cfdc56d9aa3a"
      },
      "source": [
        "df = html_to_df(url, clean_empty = True)\r\n",
        "df[1]"
      ],
      "execution_count": 171,
      "outputs": [
        {
          "output_type": "execute_result",
          "data": {
            "text/plain": [
              "0       64.242.88.10 - - [07/Mar/2004:16:05:49 -0800] ...\n",
              "1       64.242.88.10 - - [07/Mar/2004:16:06:51 -0800] ...\n",
              "2       64.242.88.10 - - [07/Mar/2004:16:10:02 -0800] ...\n",
              "3       64.242.88.10 - - [07/Mar/2004:16:11:58 -0800] ...\n",
              "4       64.242.88.10 - - [07/Mar/2004:16:20:55 -0800] ...\n",
              "                              ...                        \n",
              "1541    10.0.0.153 - - [12/Mar/2004:12:23:41 -0800] \"G...\n",
              "1542    10.0.0.153 - - [12/Mar/2004:12:23:41 -0800] \"G...\n",
              "1543    216.139.185.45 - - [12/Mar/2004:13:04:01 -0800...\n",
              "1544    pd95f99f2.dip.t-dialin.net - - [12/Mar/2004:13...\n",
              "1545    d97082.upc-d.chello.nl - - [12/Mar/2004:13:25:...\n",
              "Name: 1, Length: 1546, dtype: object"
            ]
          },
          "metadata": {
            "tags": []
          },
          "execution_count": 171
        }
      ]
    },
    {
      "cell_type": "markdown",
      "metadata": {
        "id": "SBUvV7He0JwK"
      },
      "source": [
        "**Cleaning the DataFrame:**"
      ]
    },
    {
      "cell_type": "code",
      "metadata": {
        "id": "EIFanVJ4rERl"
      },
      "source": [
        "def helper(df):\r\n",
        "    df = pd.DataFrame(list(df[1].apply(lambda x: x.split())))\r\n",
        "    df[3] = df[3].apply(lambda x: x.replace('[','') )\r\n",
        "    df[4] = df[4].apply(lambda x: x.replace(']','') )\r\n",
        "    df[5] = df.apply(lambda x : ' '.join([x[5],x[6]]).replace('\"',''), axis = 1)\r\n",
        "    df.drop([1,2,7,6],inplace=True,axis = 1)\r\n",
        "    return df"
      ],
      "execution_count": 172,
      "outputs": []
    },
    {
      "cell_type": "code",
      "metadata": {
        "colab": {
          "base_uri": "https://localhost:8080/",
          "height": 419
        },
        "id": "5kGhRhZDsPGd",
        "outputId": "e7ddb238-90d3-4d9c-9e06-4ea06b288ecb"
      },
      "source": [
        "df = helper(df)\r\n",
        "df"
      ],
      "execution_count": 173,
      "outputs": [
        {
          "output_type": "execute_result",
          "data": {
            "text/html": [
              "<div>\n",
              "<style scoped>\n",
              "    .dataframe tbody tr th:only-of-type {\n",
              "        vertical-align: middle;\n",
              "    }\n",
              "\n",
              "    .dataframe tbody tr th {\n",
              "        vertical-align: top;\n",
              "    }\n",
              "\n",
              "    .dataframe thead th {\n",
              "        text-align: right;\n",
              "    }\n",
              "</style>\n",
              "<table border=\"1\" class=\"dataframe\">\n",
              "  <thead>\n",
              "    <tr style=\"text-align: right;\">\n",
              "      <th></th>\n",
              "      <th>0</th>\n",
              "      <th>3</th>\n",
              "      <th>4</th>\n",
              "      <th>5</th>\n",
              "      <th>8</th>\n",
              "      <th>9</th>\n",
              "    </tr>\n",
              "  </thead>\n",
              "  <tbody>\n",
              "    <tr>\n",
              "      <th>0</th>\n",
              "      <td>64.242.88.10</td>\n",
              "      <td>07/Mar/2004:16:05:49</td>\n",
              "      <td>-0800</td>\n",
              "      <td>GET /twiki/bin/edit/Main/Double_bounce_sender?...</td>\n",
              "      <td>401</td>\n",
              "      <td>12846</td>\n",
              "    </tr>\n",
              "    <tr>\n",
              "      <th>1</th>\n",
              "      <td>64.242.88.10</td>\n",
              "      <td>07/Mar/2004:16:06:51</td>\n",
              "      <td>-0800</td>\n",
              "      <td>GET /twiki/bin/rdiff/TWiki/NewUserTemplate?rev...</td>\n",
              "      <td>200</td>\n",
              "      <td>4523</td>\n",
              "    </tr>\n",
              "    <tr>\n",
              "      <th>2</th>\n",
              "      <td>64.242.88.10</td>\n",
              "      <td>07/Mar/2004:16:10:02</td>\n",
              "      <td>-0800</td>\n",
              "      <td>GET /mailman/listinfo/hsdivision</td>\n",
              "      <td>200</td>\n",
              "      <td>6291</td>\n",
              "    </tr>\n",
              "    <tr>\n",
              "      <th>3</th>\n",
              "      <td>64.242.88.10</td>\n",
              "      <td>07/Mar/2004:16:11:58</td>\n",
              "      <td>-0800</td>\n",
              "      <td>GET /twiki/bin/view/TWiki/WikiSyntax</td>\n",
              "      <td>200</td>\n",
              "      <td>7352</td>\n",
              "    </tr>\n",
              "    <tr>\n",
              "      <th>4</th>\n",
              "      <td>64.242.88.10</td>\n",
              "      <td>07/Mar/2004:16:20:55</td>\n",
              "      <td>-0800</td>\n",
              "      <td>GET /twiki/bin/view/Main/DCCAndPostFix</td>\n",
              "      <td>200</td>\n",
              "      <td>5253</td>\n",
              "    </tr>\n",
              "    <tr>\n",
              "      <th>...</th>\n",
              "      <td>...</td>\n",
              "      <td>...</td>\n",
              "      <td>...</td>\n",
              "      <td>...</td>\n",
              "      <td>...</td>\n",
              "      <td>...</td>\n",
              "    </tr>\n",
              "    <tr>\n",
              "      <th>1541</th>\n",
              "      <td>10.0.0.153</td>\n",
              "      <td>12/Mar/2004:12:23:41</td>\n",
              "      <td>-0800</td>\n",
              "      <td>GET /dccstats/stats-spam-ratio.1year.png</td>\n",
              "      <td>200</td>\n",
              "      <td>1906</td>\n",
              "    </tr>\n",
              "    <tr>\n",
              "      <th>1542</th>\n",
              "      <td>10.0.0.153</td>\n",
              "      <td>12/Mar/2004:12:23:41</td>\n",
              "      <td>-0800</td>\n",
              "      <td>GET /dccstats/stats-hashes.1year.png</td>\n",
              "      <td>200</td>\n",
              "      <td>1582</td>\n",
              "    </tr>\n",
              "    <tr>\n",
              "      <th>1543</th>\n",
              "      <td>216.139.185.45</td>\n",
              "      <td>12/Mar/2004:13:04:01</td>\n",
              "      <td>-0800</td>\n",
              "      <td>GET /mailman/listinfo/webber</td>\n",
              "      <td>200</td>\n",
              "      <td>6051</td>\n",
              "    </tr>\n",
              "    <tr>\n",
              "      <th>1544</th>\n",
              "      <td>pd95f99f2.dip.t-dialin.net</td>\n",
              "      <td>12/Mar/2004:13:18:57</td>\n",
              "      <td>-0800</td>\n",
              "      <td>GET /razor.html</td>\n",
              "      <td>200</td>\n",
              "      <td>2869</td>\n",
              "    </tr>\n",
              "    <tr>\n",
              "      <th>1545</th>\n",
              "      <td>d97082.upc-d.chello.nl</td>\n",
              "      <td>12/Mar/2004:13:25:45</td>\n",
              "      <td>-0800</td>\n",
              "      <td>GET /SpamAssassin.html</td>\n",
              "      <td>200</td>\n",
              "      <td>7368</td>\n",
              "    </tr>\n",
              "  </tbody>\n",
              "</table>\n",
              "<p>1546 rows × 6 columns</p>\n",
              "</div>"
            ],
            "text/plain": [
              "                               0                     3  ...    8      9\n",
              "0                   64.242.88.10  07/Mar/2004:16:05:49  ...  401  12846\n",
              "1                   64.242.88.10  07/Mar/2004:16:06:51  ...  200   4523\n",
              "2                   64.242.88.10  07/Mar/2004:16:10:02  ...  200   6291\n",
              "3                   64.242.88.10  07/Mar/2004:16:11:58  ...  200   7352\n",
              "4                   64.242.88.10  07/Mar/2004:16:20:55  ...  200   5253\n",
              "...                          ...                   ...  ...  ...    ...\n",
              "1541                  10.0.0.153  12/Mar/2004:12:23:41  ...  200   1906\n",
              "1542                  10.0.0.153  12/Mar/2004:12:23:41  ...  200   1582\n",
              "1543              216.139.185.45  12/Mar/2004:13:04:01  ...  200   6051\n",
              "1544  pd95f99f2.dip.t-dialin.net  12/Mar/2004:13:18:57  ...  200   2869\n",
              "1545      d97082.upc-d.chello.nl  12/Mar/2004:13:25:45  ...  200   7368\n",
              "\n",
              "[1546 rows x 6 columns]"
            ]
          },
          "metadata": {
            "tags": []
          },
          "execution_count": 173
        }
      ]
    },
    {
      "cell_type": "code",
      "metadata": {
        "colab": {
          "base_uri": "https://localhost:8080/",
          "height": 419
        },
        "id": "5AH9hdpIsTUV",
        "outputId": "17a10fa3-e92d-4d53-fe63-1bf6b5ad71ad"
      },
      "source": [
        "columns = ['User Address','Date/Time','GMT Offset', 'Action','Return Code','Size']\r\n",
        "df.columns  = columns\r\n",
        "df"
      ],
      "execution_count": 174,
      "outputs": [
        {
          "output_type": "execute_result",
          "data": {
            "text/html": [
              "<div>\n",
              "<style scoped>\n",
              "    .dataframe tbody tr th:only-of-type {\n",
              "        vertical-align: middle;\n",
              "    }\n",
              "\n",
              "    .dataframe tbody tr th {\n",
              "        vertical-align: top;\n",
              "    }\n",
              "\n",
              "    .dataframe thead th {\n",
              "        text-align: right;\n",
              "    }\n",
              "</style>\n",
              "<table border=\"1\" class=\"dataframe\">\n",
              "  <thead>\n",
              "    <tr style=\"text-align: right;\">\n",
              "      <th></th>\n",
              "      <th>User Address</th>\n",
              "      <th>Date/Time</th>\n",
              "      <th>GMT Offset</th>\n",
              "      <th>Action</th>\n",
              "      <th>Return Code</th>\n",
              "      <th>Size</th>\n",
              "    </tr>\n",
              "  </thead>\n",
              "  <tbody>\n",
              "    <tr>\n",
              "      <th>0</th>\n",
              "      <td>64.242.88.10</td>\n",
              "      <td>07/Mar/2004:16:05:49</td>\n",
              "      <td>-0800</td>\n",
              "      <td>GET /twiki/bin/edit/Main/Double_bounce_sender?...</td>\n",
              "      <td>401</td>\n",
              "      <td>12846</td>\n",
              "    </tr>\n",
              "    <tr>\n",
              "      <th>1</th>\n",
              "      <td>64.242.88.10</td>\n",
              "      <td>07/Mar/2004:16:06:51</td>\n",
              "      <td>-0800</td>\n",
              "      <td>GET /twiki/bin/rdiff/TWiki/NewUserTemplate?rev...</td>\n",
              "      <td>200</td>\n",
              "      <td>4523</td>\n",
              "    </tr>\n",
              "    <tr>\n",
              "      <th>2</th>\n",
              "      <td>64.242.88.10</td>\n",
              "      <td>07/Mar/2004:16:10:02</td>\n",
              "      <td>-0800</td>\n",
              "      <td>GET /mailman/listinfo/hsdivision</td>\n",
              "      <td>200</td>\n",
              "      <td>6291</td>\n",
              "    </tr>\n",
              "    <tr>\n",
              "      <th>3</th>\n",
              "      <td>64.242.88.10</td>\n",
              "      <td>07/Mar/2004:16:11:58</td>\n",
              "      <td>-0800</td>\n",
              "      <td>GET /twiki/bin/view/TWiki/WikiSyntax</td>\n",
              "      <td>200</td>\n",
              "      <td>7352</td>\n",
              "    </tr>\n",
              "    <tr>\n",
              "      <th>4</th>\n",
              "      <td>64.242.88.10</td>\n",
              "      <td>07/Mar/2004:16:20:55</td>\n",
              "      <td>-0800</td>\n",
              "      <td>GET /twiki/bin/view/Main/DCCAndPostFix</td>\n",
              "      <td>200</td>\n",
              "      <td>5253</td>\n",
              "    </tr>\n",
              "    <tr>\n",
              "      <th>...</th>\n",
              "      <td>...</td>\n",
              "      <td>...</td>\n",
              "      <td>...</td>\n",
              "      <td>...</td>\n",
              "      <td>...</td>\n",
              "      <td>...</td>\n",
              "    </tr>\n",
              "    <tr>\n",
              "      <th>1541</th>\n",
              "      <td>10.0.0.153</td>\n",
              "      <td>12/Mar/2004:12:23:41</td>\n",
              "      <td>-0800</td>\n",
              "      <td>GET /dccstats/stats-spam-ratio.1year.png</td>\n",
              "      <td>200</td>\n",
              "      <td>1906</td>\n",
              "    </tr>\n",
              "    <tr>\n",
              "      <th>1542</th>\n",
              "      <td>10.0.0.153</td>\n",
              "      <td>12/Mar/2004:12:23:41</td>\n",
              "      <td>-0800</td>\n",
              "      <td>GET /dccstats/stats-hashes.1year.png</td>\n",
              "      <td>200</td>\n",
              "      <td>1582</td>\n",
              "    </tr>\n",
              "    <tr>\n",
              "      <th>1543</th>\n",
              "      <td>216.139.185.45</td>\n",
              "      <td>12/Mar/2004:13:04:01</td>\n",
              "      <td>-0800</td>\n",
              "      <td>GET /mailman/listinfo/webber</td>\n",
              "      <td>200</td>\n",
              "      <td>6051</td>\n",
              "    </tr>\n",
              "    <tr>\n",
              "      <th>1544</th>\n",
              "      <td>pd95f99f2.dip.t-dialin.net</td>\n",
              "      <td>12/Mar/2004:13:18:57</td>\n",
              "      <td>-0800</td>\n",
              "      <td>GET /razor.html</td>\n",
              "      <td>200</td>\n",
              "      <td>2869</td>\n",
              "    </tr>\n",
              "    <tr>\n",
              "      <th>1545</th>\n",
              "      <td>d97082.upc-d.chello.nl</td>\n",
              "      <td>12/Mar/2004:13:25:45</td>\n",
              "      <td>-0800</td>\n",
              "      <td>GET /SpamAssassin.html</td>\n",
              "      <td>200</td>\n",
              "      <td>7368</td>\n",
              "    </tr>\n",
              "  </tbody>\n",
              "</table>\n",
              "<p>1546 rows × 6 columns</p>\n",
              "</div>"
            ],
            "text/plain": [
              "                    User Address             Date/Time  ... Return Code   Size\n",
              "0                   64.242.88.10  07/Mar/2004:16:05:49  ...         401  12846\n",
              "1                   64.242.88.10  07/Mar/2004:16:06:51  ...         200   4523\n",
              "2                   64.242.88.10  07/Mar/2004:16:10:02  ...         200   6291\n",
              "3                   64.242.88.10  07/Mar/2004:16:11:58  ...         200   7352\n",
              "4                   64.242.88.10  07/Mar/2004:16:20:55  ...         200   5253\n",
              "...                          ...                   ...  ...         ...    ...\n",
              "1541                  10.0.0.153  12/Mar/2004:12:23:41  ...         200   1906\n",
              "1542                  10.0.0.153  12/Mar/2004:12:23:41  ...         200   1582\n",
              "1543              216.139.185.45  12/Mar/2004:13:04:01  ...         200   6051\n",
              "1544  pd95f99f2.dip.t-dialin.net  12/Mar/2004:13:18:57  ...         200   2869\n",
              "1545      d97082.upc-d.chello.nl  12/Mar/2004:13:25:45  ...         200   7368\n",
              "\n",
              "[1546 rows x 6 columns]"
            ]
          },
          "metadata": {
            "tags": []
          },
          "execution_count": 174
        }
      ]
    },
    {
      "cell_type": "markdown",
      "metadata": {
        "id": "VpAfAJ7iz_7C"
      },
      "source": [
        "**Top 5 visitors:**"
      ]
    },
    {
      "cell_type": "code",
      "metadata": {
        "colab": {
          "base_uri": "https://localhost:8080/"
        },
        "id": "6RbiftCKuphM",
        "outputId": "81dd99ea-290c-4da1-b534-7aee93994220"
      },
      "source": [
        "df['User Address'].value_counts().head(5)"
      ],
      "execution_count": 175,
      "outputs": [
        {
          "output_type": "execute_result",
          "data": {
            "text/plain": [
              "64.242.88.10                       452\n",
              "10.0.0.153                         270\n",
              "h24-71-236-129.ca.shawcable.net     51\n",
              "cr020r01-3.sac.overture.com         44\n",
              "h24-70-69-74.ca.shawcable.net       32\n",
              "Name: User Address, dtype: int64"
            ]
          },
          "metadata": {
            "tags": []
          },
          "execution_count": 175
        }
      ]
    },
    {
      "cell_type": "code",
      "metadata": {
        "colab": {
          "base_uri": "https://localhost:8080/",
          "height": 529
        },
        "id": "lJkNTl8c0s7u",
        "outputId": "39da3c9f-3494-4dd4-b7f3-3f34c95a38ef"
      },
      "source": [
        "plt.bar(df['User Address'].value_counts().index[0 : 5], \r\n",
        "        df['User Address'].value_counts().values[0 : 5])\r\n",
        "plt.xticks( df['User Address'].value_counts().index[0:5],rotation='vertical')"
      ],
      "execution_count": 176,
      "outputs": [
        {
          "output_type": "execute_result",
          "data": {
            "text/plain": [
              "([<matplotlib.axis.XTick at 0x7f94b6a4b3c8>,\n",
              "  <matplotlib.axis.XTick at 0x7f94b6a4b4a8>,\n",
              "  <matplotlib.axis.XTick at 0x7f94b6a52550>,\n",
              "  <matplotlib.axis.XTick at 0x7f94b6ab0630>,\n",
              "  <matplotlib.axis.XTick at 0x7f94b6a50ef0>],\n",
              " <a list of 5 Text major ticklabel objects>)"
            ]
          },
          "metadata": {
            "tags": []
          },
          "execution_count": 176
        },
        {
          "output_type": "display_data",
          "data": {
            "image/png": "[encoded data removed]",
            "text/plain": [
              "<Figure size 432x288 with 1 Axes>"
            ]
          },
          "metadata": {
            "tags": [],
            "needs_background": "light"
          }
        }
      ]
    },
    {
      "cell_type": "markdown",
      "metadata": {
        "id": "13XRmJ7w0bYf"
      },
      "source": [
        "**Top visited pages:**"
      ]
    },
    {
      "cell_type": "code",
      "metadata": {
        "colab": {
          "base_uri": "https://localhost:8080/"
        },
        "id": "oH2xVC05yFlx",
        "outputId": "46c18adf-5b62-4754-8227-5c1340cf918c"
      },
      "source": [
        "df['Action'].value_counts().head(5)"
      ],
      "execution_count": 177,
      "outputs": [
        {
          "output_type": "execute_result",
          "data": {
            "text/plain": [
              "GET /twiki/pub/TWiki/TWikiLogos/twikiRobot46x50.gif    64\n",
              "GET /                                                  47\n",
              "GET /twiki/bin/view/Main/WebHome                       41\n",
              "GET /icons/gnu-head-tiny.jpg                           37\n",
              "GET /icons/PythonPowered.png                           37\n",
              "Name: Action, dtype: int64"
            ]
          },
          "metadata": {
            "tags": []
          },
          "execution_count": 177
        }
      ]
    },
    {
      "cell_type": "code",
      "metadata": {
        "colab": {
          "base_uri": "https://localhost:8080/",
          "height": 520
        },
        "id": "an9RKqEI0fwO",
        "outputId": "68394701-84af-4ea6-9def-af1d3edab2ed"
      },
      "source": [
        "plt.bar(df['Action'].value_counts().index[0 : 5],\r\n",
        "        df['Action'].value_counts().values[0 : 5])\r\n",
        "plt.xticks( df['Action'].value_counts().index[0:5],rotation='vertical');"
      ],
      "execution_count": 178,
      "outputs": [
        {
          "output_type": "display_data",
          "data": {
            "image/png": "[encoded data removed]",
            "text/plain": [
              "<Figure size 432x288 with 1 Axes>"
            ]
          },
          "metadata": {
            "tags": [],
            "needs_background": "light"
          }
        }
      ]
    },
    {
      "cell_type": "markdown",
      "metadata": {
        "id": "e9egJ1BF4B71"
      },
      "source": [
        "**Get Geo Location:**"
      ]
    },
    {
      "cell_type": "code",
      "metadata": {
        "id": "aUAHc4N01xKn"
      },
      "source": [
        "def get_location(ip):\r\n",
        "    url = \"https://geolocation-db.com/jsonp/\" + ip\r\n",
        "    with urllib.request.urlopen(url) as url:\r\n",
        "        data = json.loads(url.read().decode().split(\"(\")[1].strip(\")\"))\r\n",
        "    return {\"country_code\":data[\"country_code\"], 'latitude':data['latitude'],'longitude':data['longitude']}"
      ],
      "execution_count": 179,
      "outputs": []
    },
    {
      "cell_type": "code",
      "metadata": {
        "colab": {
          "base_uri": "https://localhost:8080/",
          "height": 66,
          "referenced_widgets": [
            "bb872f47b0d94a54b9320071093892c3",
            "fc12c88b5c764d4abd9f404bf8deb6d9",
            "f56cfa6f6d804ee5935cfbebc19d0b44",
            "32a3c76860764710941b70d786fe65e5",
            "44b4ca0402604eee98a9c19a82a844f9",
            "6a2c0ccf7be4431baaa62896faaac6c3",
            "72028adbc13249ce88b6c1f59d3305a2",
            "0bf12fb74fc44a88b678f7f7d8dc98e0"
          ]
        },
        "id": "C-cZmuvO3aFa",
        "outputId": "20fcaa70-a28e-4e55-96b9-f778fa80f30b"
      },
      "source": [
        "from tqdm.notebook import tqdm\r\n",
        "ip_info = {}\r\n",
        "for i in tqdm(df['User Address'].unique()):\r\n",
        "    ip_info[i] = geo_location(i)"
      ],
      "execution_count": 187,
      "outputs": [
        {
          "output_type": "display_data",
          "data": {
            "application/vnd.jupyter.widget-view+json": {
              "model_id": "bb872f47b0d94a54b9320071093892c3",
              "version_minor": 0,
              "version_major": 2
            },
            "text/plain": [
              "HBox(children=(FloatProgress(value=0.0, max=172.0), HTML(value='')))"
            ]
          },
          "metadata": {
            "tags": []
          }
        },
        {
          "output_type": "stream",
          "text": [
            "\n"
          ],
          "name": "stdout"
        }
      ]
    },
    {
      "cell_type": "code",
      "metadata": {
        "colab": {
          "base_uri": "https://localhost:8080/"
        },
        "id": "gKxK5VtW6tsm",
        "outputId": "d0e5a7bc-cd71-4050-82ff-23939867f153"
      },
      "source": [
        "ip_info"
      ],
      "execution_count": 208,
      "outputs": [
        {
          "output_type": "execute_result",
          "data": {
            "text/plain": [
              "{'0x503e4fce.virnxx2.adsl-dhcp.tele.dk': ('United States',\n",
              "  'Mountain View',\n",
              "  'California'),\n",
              " '1-320.cnc.bc.ca': ('United States', 'Mountain View', 'California'),\n",
              " '1-729.cnc.bc.ca': ('United States', 'Mountain View', 'California'),\n",
              " '10.0.0.153': ('Not found', 'Not found', 'Not found'),\n",
              " '12.22.207.235': ('United States', 'San Diego', 'California'),\n",
              " '128.227.88.79': ('United States', 'Gainesville', 'Florida'),\n",
              " '142.27.64.35': ('Canada', None, None),\n",
              " '145.253.208.9': ('Germany', None, None),\n",
              " '1513.cps.virtua.com.br': ('United States', 'Mountain View', 'California'),\n",
              " '194.151.73.43': ('Netherlands', \"'s-Hertogenbosch\", 'North Brabant'),\n",
              " '195.11.231.210': ('United Kingdom', None, None),\n",
              " '195.230.181.122': ('Austria', 'Mattersburg', 'Burgenland'),\n",
              " '195.246.13.119': ('Slovenia', None, None),\n",
              " '2-110.cnc.bc.ca': ('United States', 'Mountain View', 'California'),\n",
              " '2-238.cnc.bc.ca': ('United States', 'Mountain View', 'California'),\n",
              " '200-55-104-193.dsl.prima.net.ar': ('United States',\n",
              "  'Mountain View',\n",
              "  'California'),\n",
              " '200.160.249.68.bmf.com.br': ('United States', 'Mountain View', 'California'),\n",
              " '200.222.33.33': ('Brazil', 'Sao Joao de Meriti', 'Rio de Janeiro'),\n",
              " '203.147.138.233': ('Australia', None, None),\n",
              " '206-15-133-153.dialup.ziplink.net': ('United States',\n",
              "  'Mountain View',\n",
              "  'California'),\n",
              " '206-15-133-154.dialup.ziplink.net': ('United States',\n",
              "  'Mountain View',\n",
              "  'California'),\n",
              " '206-15-133-181.dialup.ziplink.net': ('United States',\n",
              "  'Mountain View',\n",
              "  'California'),\n",
              " '207.195.59.160': ('Canada', None, None),\n",
              " '208-186-146-13.nrp3.brv.mn.frontiernet.net': ('United States',\n",
              "  'Mountain View',\n",
              "  'California'),\n",
              " '208-38-57-205.ip.cal.radiant.net': ('United States',\n",
              "  'Mountain View',\n",
              "  'California'),\n",
              " '208.247.148.12': ('United States', None, None),\n",
              " '212.21.228.26': ('Spain', 'Logroño', 'La Rioja'),\n",
              " '212.92.37.62': ('Spain', 'Mollet del Vallès', 'Barcelona'),\n",
              " '213.181.81.4': ('Spain', 'Novelda', 'Alicante'),\n",
              " '216-160-111-121.tukw.qwest.net': ('United States',\n",
              "  'Mountain View',\n",
              "  'California'),\n",
              " '216.139.185.45': ('United States', None, None),\n",
              " '219.95.17.51': ('Malaysia', None, None),\n",
              " '3_343_lt_someone': ('United States', 'Mountain View', 'California'),\n",
              " '4.37.97.186': ('United States', 'Jasper', 'Indiana'),\n",
              " '61.165.64.6': ('China', 'Shanghai', 'Shanghai'),\n",
              " '61.9.4.61': ('Philippines', None, None),\n",
              " '64-249-27-114.client.dsl.net': ('United States',\n",
              "  'Mountain View',\n",
              "  'California'),\n",
              " '64-93-34-186.client.dsl.net': ('United States',\n",
              "  'Mountain View',\n",
              "  'California'),\n",
              " '64.242.88.10': ('United States', None, None),\n",
              " '64.246.94.141': ('United States', None, None),\n",
              " '64.246.94.152': ('United States', None, None),\n",
              " '65-37-13-251.nrp2.roc.ny.frontiernet.net': ('United States',\n",
              "  'Mountain View',\n",
              "  'California'),\n",
              " '66-194-6-70.gen.twtelecom.net': ('United States',\n",
              "  'Mountain View',\n",
              "  'California'),\n",
              " '66-194-6-71.gen.twtelecom.net': ('United States',\n",
              "  'Mountain View',\n",
              "  'California'),\n",
              " '66-194-6-79.gen.twtelecom.net': ('United States',\n",
              "  'Mountain View',\n",
              "  'California'),\n",
              " '66.213.206.2': ('United States', None, None),\n",
              " '67.131.107.5': ('United States', 'Spanaway', 'Washington'),\n",
              " '68-174-110-154.nyc.rr.com': ('United States', 'Mountain View', 'California'),\n",
              " '80-219-148-207.dclient.hispeed.ch': ('United States',\n",
              "  'Mountain View',\n",
              "  'California'),\n",
              " '80.58.14.235.proxycache.rima-tde.net': ('United States',\n",
              "  'Mountain View',\n",
              "  'California'),\n",
              " '80.58.33.42.proxycache.rima-tde.net': ('United States',\n",
              "  'Mountain View',\n",
              "  'California'),\n",
              " '80.58.35.111.proxycache.rima-tde.net': ('United States',\n",
              "  'Mountain View',\n",
              "  'California'),\n",
              " '92-moc-6.acn.waw.pl': ('United States', 'Mountain View', 'California'),\n",
              " 'a213-84-36-192.adsl.xs4all.nl': ('United States',\n",
              "  'Mountain View',\n",
              "  'California'),\n",
              " 'acbf6930.ipt.aol.com': ('United States', 'Mountain View', 'California'),\n",
              " 'adsl-157-26-153.msy.bellsouth.net': ('United States',\n",
              "  'Mountain View',\n",
              "  'California'),\n",
              " 'adsl-64-173-42-65.dsl.snfc21.pacbell.net': ('United States',\n",
              "  'Mountain View',\n",
              "  'California'),\n",
              " 'alille-251-1-2-197.w82-124.abo.wanadoo.fr': ('United States',\n",
              "  'Mountain View',\n",
              "  'California'),\n",
              " 'archserve.id.ucsb.edu': ('United States', 'Mountain View', 'California'),\n",
              " 'barrie-ppp108371.sympatico.ca': ('United States',\n",
              "  'Mountain View',\n",
              "  'California'),\n",
              " 'bh02i525f01.au.ibm.com': ('United States', 'Mountain View', 'California'),\n",
              " 'c-24-11-14-147.client.comcast.net': ('United States',\n",
              "  'Mountain View',\n",
              "  'California'),\n",
              " 'c-24-20-163-223.client.comcast.net': ('United States',\n",
              "  'Mountain View',\n",
              "  'California'),\n",
              " 'c-411472d5.04-138-73746f22.cust.bredbandsbolaget.se': ('United States',\n",
              "  'Mountain View',\n",
              "  'California'),\n",
              " 'cacher2-ext.wise.edt.ericsson.se': ('United States',\n",
              "  'Mountain View',\n",
              "  'California'),\n",
              " 'calcite.rhyolite.com': ('United States', 'Mountain View', 'California'),\n",
              " 'cpe-203-51-137-224.vic.bigpond.net.au': ('United States',\n",
              "  'Mountain View',\n",
              "  'California'),\n",
              " 'cr020r01-3.sac.overture.com': ('United States',\n",
              "  'Mountain View',\n",
              "  'California'),\n",
              " 'crawl24-public.alexa.com': ('United States', 'Mountain View', 'California'),\n",
              " 'd207-6-50-215.bchsia.telus.net': ('United States',\n",
              "  'Mountain View',\n",
              "  'California'),\n",
              " 'd207-6-9-183.bchsia.telus.net': ('United States',\n",
              "  'Mountain View',\n",
              "  'California'),\n",
              " 'd97082.upc-d.chello.nl': ('United States', 'Mountain View', 'California'),\n",
              " 'dialup-5-81.tulane.edu': ('United States', 'Mountain View', 'California'),\n",
              " 'dsl-80-43-113-44.access.uk.tiscali.com': ('United States',\n",
              "  'Mountain View',\n",
              "  'California'),\n",
              " 'fw.aub.dk': ('United States', 'Mountain View', 'California'),\n",
              " 'fw.kcm.org': ('United States', 'Mountain View', 'California'),\n",
              " 'fw1.millardref.com': ('United States', 'Mountain View', 'California'),\n",
              " 'grandpa.mmlc.northwestern.edu': ('United States',\n",
              "  'Mountain View',\n",
              "  'California'),\n",
              " 'h194n2fls308o1033.telia.com': ('United States',\n",
              "  'Mountain View',\n",
              "  'California'),\n",
              " 'h24-68-45-227.gv.shawcable.net': ('United States',\n",
              "  'Mountain View',\n",
              "  'California'),\n",
              " 'h24-70-56-49.ca.shawcable.net': ('United States',\n",
              "  'Mountain View',\n",
              "  'California'),\n",
              " 'h24-70-69-74.ca.shawcable.net': ('United States',\n",
              "  'Mountain View',\n",
              "  'California'),\n",
              " 'h24-71-236-129.ca.shawcable.net': ('United States',\n",
              "  'Mountain View',\n",
              "  'California'),\n",
              " 'h24-71-249-14.ca.shawcable.net': ('United States',\n",
              "  'Mountain View',\n",
              "  'California'),\n",
              " 'home.yeungs.net': ('United States', 'Mountain View', 'California'),\n",
              " 'ic8234.upco.es': ('United States', 'Mountain View', 'California'),\n",
              " 'ip-200-56-225-61-mty.marcatel.net.mx': ('United States',\n",
              "  'Mountain View',\n",
              "  'California'),\n",
              " 'ip68-228-43-49.tc.ph.cox.net': ('United States',\n",
              "  'Mountain View',\n",
              "  'California'),\n",
              " 'ipcorp-c8b07af1.terraempresas.com.br': ('United States',\n",
              "  'Mountain View',\n",
              "  'California'),\n",
              " 'jacksonproject.cnc.bc.ca': ('United States', 'Mountain View', 'California'),\n",
              " 'korell2.cc.gatech.edu': ('United States', 'Mountain View', 'California'),\n",
              " 'l07v-1-17.d1.club-internet.fr': ('United States',\n",
              "  'Mountain View',\n",
              "  'California'),\n",
              " 'ladybug.cns.vt.edu': ('United States', 'Mountain View', 'California'),\n",
              " 'lhr003a.dhl.com': ('United States', 'Mountain View', 'California'),\n",
              " 'lj1000.inktomisearch.com': ('United States', 'Mountain View', 'California'),\n",
              " 'lj1007.inktomisearch.com': ('United States', 'Mountain View', 'California'),\n",
              " 'lj1008.inktomisearch.com': ('United States', 'Mountain View', 'California'),\n",
              " 'lj1016.inktomisearch.com': ('United States', 'Mountain View', 'California'),\n",
              " 'lj1018.inktomisearch.com': ('United States', 'Mountain View', 'California'),\n",
              " 'lj1024.inktomisearch.com': ('United States', 'Mountain View', 'California'),\n",
              " 'lj1025.inktomisearch.com': ('United States', 'Mountain View', 'California'),\n",
              " 'lj1027.inktomisearch.com': ('United States', 'Mountain View', 'California'),\n",
              " 'lj1028.inktomisearch.com': ('United States', 'Mountain View', 'California'),\n",
              " 'lj1031.inktomisearch.com': ('United States', 'Mountain View', 'California'),\n",
              " 'lj1036.inktomisearch.com': ('United States', 'Mountain View', 'California'),\n",
              " 'lj1048.inktomisearch.com': ('United States', 'Mountain View', 'California'),\n",
              " 'lj1052.inktomisearch.com': ('United States', 'Mountain View', 'California'),\n",
              " 'lj1053.inktomisearch.com': ('United States', 'Mountain View', 'California'),\n",
              " 'lj1061.inktomisearch.com': ('United States', 'Mountain View', 'California'),\n",
              " 'lj1073.inktomisearch.com': ('United States', 'Mountain View', 'California'),\n",
              " 'lj1088.inktomisearch.com': ('United States', 'Mountain View', 'California'),\n",
              " 'lj1089.inktomisearch.com': ('United States', 'Mountain View', 'California'),\n",
              " 'lj1090.inktomisearch.com': ('United States', 'Mountain View', 'California'),\n",
              " 'lj1105.inktomisearch.com': ('United States', 'Mountain View', 'California'),\n",
              " 'lj1115.inktomisearch.com': ('United States', 'Mountain View', 'California'),\n",
              " 'lj1117.inktomisearch.com': ('United States', 'Mountain View', 'California'),\n",
              " 'lj1120.inktomisearch.com': ('United States', 'Mountain View', 'California'),\n",
              " 'lj1123.inktomisearch.com': ('United States', 'Mountain View', 'California'),\n",
              " 'lj1125.inktomisearch.com': ('United States', 'Mountain View', 'California'),\n",
              " 'lj1145.inktomisearch.com': ('United States', 'Mountain View', 'California'),\n",
              " 'lj1153.inktomisearch.com': ('United States', 'Mountain View', 'California'),\n",
              " 'lj1156.inktomisearch.com': ('United States', 'Mountain View', 'California'),\n",
              " 'lj1159.inktomisearch.com': ('United States', 'Mountain View', 'California'),\n",
              " 'lj1160.inktomisearch.com': ('United States', 'Mountain View', 'California'),\n",
              " 'lj1162.inktomisearch.com': ('United States', 'Mountain View', 'California'),\n",
              " 'lj1164.inktomisearch.com': ('United States', 'Mountain View', 'California'),\n",
              " 'lj1168.inktomisearch.com': ('United States', 'Mountain View', 'California'),\n",
              " 'lj1212.inktomisearch.com': ('United States', 'Mountain View', 'California'),\n",
              " 'lj1216.inktomisearch.com': ('United States', 'Mountain View', 'California'),\n",
              " 'lj1220.inktomisearch.com': ('United States', 'Mountain View', 'California'),\n",
              " 'lj1223.inktomisearch.com': ('United States', 'Mountain View', 'California'),\n",
              " 'lj1231.inktomisearch.com': ('United States', 'Mountain View', 'California'),\n",
              " 'lordgun.org': ('United States', 'Mountain View', 'California'),\n",
              " 'mail.geovariances.fr': ('United States', 'Mountain View', 'California'),\n",
              " 'market-mail.panduit.com': ('United States', 'Mountain View', 'California'),\n",
              " 'mcl02.cnc.bc.ca': ('United States', 'Mountain View', 'California'),\n",
              " 'mmscrm07-2.sac.overture.com': ('United States',\n",
              "  'Mountain View',\n",
              "  'California'),\n",
              " 'mth-fgw.ballarat.edu.au': ('United States', 'Mountain View', 'California'),\n",
              " 'nb-bolz.cremona.polimi.it': ('United States', 'Mountain View', 'California'),\n",
              " 'ns.mou.cz': ('United States', 'Mountain View', 'California'),\n",
              " 'ns.wtbts.org': ('United States', 'Mountain View', 'California'),\n",
              " 'ns3.vonroll.ch': ('United States', 'Mountain View', 'California'),\n",
              " 'ogw.netinfo.bg': ('United States', 'Mountain View', 'California'),\n",
              " 'osdlab.eic.nctu.edu.tw': ('United States', 'Mountain View', 'California'),\n",
              " 'p213.54.168.132.tisdip.tiscali.de': ('United States',\n",
              "  'Mountain View',\n",
              "  'California'),\n",
              " 'p5083cd5d.dip0.t-ipconnect.de': ('United States',\n",
              "  'Mountain View',\n",
              "  'California'),\n",
              " 'pc-030-040.eco.rug.nl': ('United States', 'Mountain View', 'California'),\n",
              " 'pc3-registry-stockholm.telia.net': ('United States',\n",
              "  'Mountain View',\n",
              "  'California'),\n",
              " 'pd95f99f2.dip.t-dialin.net': ('United States',\n",
              "  'Mountain View',\n",
              "  'California'),\n",
              " 'pd9e50809.dip.t-dialin.net': ('United States',\n",
              "  'Mountain View',\n",
              "  'California'),\n",
              " 'pd9e761cf.dip.t-dialin.net': ('United States',\n",
              "  'Mountain View',\n",
              "  'California'),\n",
              " 'pd9eb1396.dip.t-dialin.net': ('United States',\n",
              "  'Mountain View',\n",
              "  'California'),\n",
              " 'pntn02m05-129.bctel.ca': ('United States', 'Mountain View', 'California'),\n",
              " 'pool-68-160-195-60.ny325.east.verizon.net': ('United States',\n",
              "  'Mountain View',\n",
              "  'California'),\n",
              " 'ppp2.p33.is.com.ua': ('United States', 'Mountain View', 'California'),\n",
              " 'proxy0.haifa.ac.il': ('United States', 'Mountain View', 'California'),\n",
              " 'prxint-sxb2.e-i.net': ('United States', 'Mountain View', 'California'),\n",
              " 'prxint-sxb3.e-i.net': ('United States', 'Mountain View', 'California'),\n",
              " 'px7wh.vc.shawcable.net': ('United States', 'Mountain View', 'California'),\n",
              " 'rouble.cc.strath.ac.uk': ('United States', 'Mountain View', 'California'),\n",
              " 'spica.ukc.ac.uk': ('United States', 'Mountain View', 'California'),\n",
              " 'spot.nnacorp.com': ('United States', 'Mountain View', 'California'),\n",
              " 'trrc02m01-40.bctel.ca': ('United States', 'Mountain View', 'California'),\n",
              " 'ts04-ip92.hevanet.com': ('United States', 'Mountain View', 'California'),\n",
              " 'ts05-ip44.hevanet.com': ('United States', 'Mountain View', 'California'),\n",
              " 'user-0c8hdkf.cable.mindspring.com': ('United States',\n",
              "  'Mountain View',\n",
              "  'California'),\n",
              " 'vlp181.vlp.fi': ('United States', 'Mountain View', 'California'),\n",
              " 'watchguard.cgmatane.qc.ca': ('United States', 'Mountain View', 'California'),\n",
              " 'wc03.mtnk.rnc.net.cable.rogers.com': ('United States',\n",
              "  'Mountain View',\n",
              "  'California'),\n",
              " 'wc09.mtnk.rnc.net.cable.rogers.com': ('United States',\n",
              "  'Mountain View',\n",
              "  'California'),\n",
              " 'wwwcache.lanl.gov': ('United States', 'Mountain View', 'California'),\n",
              " 'yongsan-cache.korea.army.mil': ('United States',\n",
              "  'Mountain View',\n",
              "  'California')}"
            ]
          },
          "metadata": {
            "tags": []
          },
          "execution_count": 208
        }
      ]
    },
    {
      "cell_type": "code",
      "metadata": {
        "id": "HTM4EqQj4uzw"
      },
      "source": [
        "df[\"Country\"] = df[\"User Address\"].apply(lambda x: ip_info[x][0])\r\n",
        "df['latitude'] = df[\"User Address\"].apply(lambda x: ip_info[x][1])\r\n",
        "df['longitude'] = df[\"User Address\"].apply(lambda x: ip_info[x][2])"
      ],
      "execution_count": 204,
      "outputs": []
    },
    {
      "cell_type": "code",
      "metadata": {
        "colab": {
          "base_uri": "https://localhost:8080/",
          "height": 572
        },
        "id": "tHgh5lbA5P1G",
        "outputId": "902d9df2-b41a-4152-de1a-df9fdc20bdf3"
      },
      "source": [
        "df"
      ],
      "execution_count": 211,
      "outputs": [
        {
          "output_type": "execute_result",
          "data": {
            "text/html": [
              "<div>\n",
              "<style scoped>\n",
              "    .dataframe tbody tr th:only-of-type {\n",
              "        vertical-align: middle;\n",
              "    }\n",
              "\n",
              "    .dataframe tbody tr th {\n",
              "        vertical-align: top;\n",
              "    }\n",
              "\n",
              "    .dataframe thead th {\n",
              "        text-align: right;\n",
              "    }\n",
              "</style>\n",
              "<table border=\"1\" class=\"dataframe\">\n",
              "  <thead>\n",
              "    <tr style=\"text-align: right;\">\n",
              "      <th></th>\n",
              "      <th>User Address</th>\n",
              "      <th>Date/Time</th>\n",
              "      <th>GMT Offset</th>\n",
              "      <th>Action</th>\n",
              "      <th>Return Code</th>\n",
              "      <th>Size</th>\n",
              "      <th>latitude</th>\n",
              "      <th>Country</th>\n",
              "      <th>longitude</th>\n",
              "      <th>country_code</th>\n",
              "    </tr>\n",
              "  </thead>\n",
              "  <tbody>\n",
              "    <tr>\n",
              "      <th>0</th>\n",
              "      <td>64.242.88.10</td>\n",
              "      <td>07/Mar/2004:16:05:49</td>\n",
              "      <td>-0800</td>\n",
              "      <td>GET /twiki/bin/edit/Main/Double_bounce_sender?...</td>\n",
              "      <td>401</td>\n",
              "      <td>12846</td>\n",
              "      <td>None</td>\n",
              "      <td>United States</td>\n",
              "      <td>None</td>\n",
              "      <td>None</td>\n",
              "    </tr>\n",
              "    <tr>\n",
              "      <th>1</th>\n",
              "      <td>64.242.88.10</td>\n",
              "      <td>07/Mar/2004:16:06:51</td>\n",
              "      <td>-0800</td>\n",
              "      <td>GET /twiki/bin/rdiff/TWiki/NewUserTemplate?rev...</td>\n",
              "      <td>200</td>\n",
              "      <td>4523</td>\n",
              "      <td>None</td>\n",
              "      <td>United States</td>\n",
              "      <td>None</td>\n",
              "      <td>None</td>\n",
              "    </tr>\n",
              "    <tr>\n",
              "      <th>2</th>\n",
              "      <td>64.242.88.10</td>\n",
              "      <td>07/Mar/2004:16:10:02</td>\n",
              "      <td>-0800</td>\n",
              "      <td>GET /mailman/listinfo/hsdivision</td>\n",
              "      <td>200</td>\n",
              "      <td>6291</td>\n",
              "      <td>None</td>\n",
              "      <td>United States</td>\n",
              "      <td>None</td>\n",
              "      <td>None</td>\n",
              "    </tr>\n",
              "    <tr>\n",
              "      <th>3</th>\n",
              "      <td>64.242.88.10</td>\n",
              "      <td>07/Mar/2004:16:11:58</td>\n",
              "      <td>-0800</td>\n",
              "      <td>GET /twiki/bin/view/TWiki/WikiSyntax</td>\n",
              "      <td>200</td>\n",
              "      <td>7352</td>\n",
              "      <td>None</td>\n",
              "      <td>United States</td>\n",
              "      <td>None</td>\n",
              "      <td>None</td>\n",
              "    </tr>\n",
              "    <tr>\n",
              "      <th>4</th>\n",
              "      <td>64.242.88.10</td>\n",
              "      <td>07/Mar/2004:16:20:55</td>\n",
              "      <td>-0800</td>\n",
              "      <td>GET /twiki/bin/view/Main/DCCAndPostFix</td>\n",
              "      <td>200</td>\n",
              "      <td>5253</td>\n",
              "      <td>None</td>\n",
              "      <td>United States</td>\n",
              "      <td>None</td>\n",
              "      <td>None</td>\n",
              "    </tr>\n",
              "    <tr>\n",
              "      <th>...</th>\n",
              "      <td>...</td>\n",
              "      <td>...</td>\n",
              "      <td>...</td>\n",
              "      <td>...</td>\n",
              "      <td>...</td>\n",
              "      <td>...</td>\n",
              "      <td>...</td>\n",
              "      <td>...</td>\n",
              "      <td>...</td>\n",
              "      <td>...</td>\n",
              "    </tr>\n",
              "    <tr>\n",
              "      <th>1541</th>\n",
              "      <td>10.0.0.153</td>\n",
              "      <td>12/Mar/2004:12:23:41</td>\n",
              "      <td>-0800</td>\n",
              "      <td>GET /dccstats/stats-spam-ratio.1year.png</td>\n",
              "      <td>200</td>\n",
              "      <td>1906</td>\n",
              "      <td>Not found</td>\n",
              "      <td>Not found</td>\n",
              "      <td>Not found</td>\n",
              "      <td>None</td>\n",
              "    </tr>\n",
              "    <tr>\n",
              "      <th>1542</th>\n",
              "      <td>10.0.0.153</td>\n",
              "      <td>12/Mar/2004:12:23:41</td>\n",
              "      <td>-0800</td>\n",
              "      <td>GET /dccstats/stats-hashes.1year.png</td>\n",
              "      <td>200</td>\n",
              "      <td>1582</td>\n",
              "      <td>Not found</td>\n",
              "      <td>Not found</td>\n",
              "      <td>Not found</td>\n",
              "      <td>None</td>\n",
              "    </tr>\n",
              "    <tr>\n",
              "      <th>1543</th>\n",
              "      <td>216.139.185.45</td>\n",
              "      <td>12/Mar/2004:13:04:01</td>\n",
              "      <td>-0800</td>\n",
              "      <td>GET /mailman/listinfo/webber</td>\n",
              "      <td>200</td>\n",
              "      <td>6051</td>\n",
              "      <td>None</td>\n",
              "      <td>United States</td>\n",
              "      <td>None</td>\n",
              "      <td>None</td>\n",
              "    </tr>\n",
              "    <tr>\n",
              "      <th>1544</th>\n",
              "      <td>pd95f99f2.dip.t-dialin.net</td>\n",
              "      <td>12/Mar/2004:13:18:57</td>\n",
              "      <td>-0800</td>\n",
              "      <td>GET /razor.html</td>\n",
              "      <td>200</td>\n",
              "      <td>2869</td>\n",
              "      <td>Mountain View</td>\n",
              "      <td>United States</td>\n",
              "      <td>California</td>\n",
              "      <td>None</td>\n",
              "    </tr>\n",
              "    <tr>\n",
              "      <th>1545</th>\n",
              "      <td>d97082.upc-d.chello.nl</td>\n",
              "      <td>12/Mar/2004:13:25:45</td>\n",
              "      <td>-0800</td>\n",
              "      <td>GET /SpamAssassin.html</td>\n",
              "      <td>200</td>\n",
              "      <td>7368</td>\n",
              "      <td>Mountain View</td>\n",
              "      <td>United States</td>\n",
              "      <td>California</td>\n",
              "      <td>None</td>\n",
              "    </tr>\n",
              "  </tbody>\n",
              "</table>\n",
              "<p>1546 rows × 10 columns</p>\n",
              "</div>"
            ],
            "text/plain": [
              "                    User Address             Date/Time  ...   longitude country_code\n",
              "0                   64.242.88.10  07/Mar/2004:16:05:49  ...        None         None\n",
              "1                   64.242.88.10  07/Mar/2004:16:06:51  ...        None         None\n",
              "2                   64.242.88.10  07/Mar/2004:16:10:02  ...        None         None\n",
              "3                   64.242.88.10  07/Mar/2004:16:11:58  ...        None         None\n",
              "4                   64.242.88.10  07/Mar/2004:16:20:55  ...        None         None\n",
              "...                          ...                   ...  ...         ...          ...\n",
              "1541                  10.0.0.153  12/Mar/2004:12:23:41  ...   Not found         None\n",
              "1542                  10.0.0.153  12/Mar/2004:12:23:41  ...   Not found         None\n",
              "1543              216.139.185.45  12/Mar/2004:13:04:01  ...        None         None\n",
              "1544  pd95f99f2.dip.t-dialin.net  12/Mar/2004:13:18:57  ...  California         None\n",
              "1545      d97082.upc-d.chello.nl  12/Mar/2004:13:25:45  ...  California         None\n",
              "\n",
              "[1546 rows x 10 columns]"
            ]
          },
          "metadata": {
            "tags": []
          },
          "execution_count": 211
        }
      ]
    },
    {
      "cell_type": "code",
      "metadata": {
        "colab": {
          "base_uri": "https://localhost:8080/",
          "height": 283
        },
        "id": "ppAb5vch6fhf",
        "outputId": "d9fcaee4-e553-4725-e47a-21aa8fa9c40e"
      },
      "source": [
        "plt.bar(df[\"User Address\"], df[\"Country\"])"
      ],
      "execution_count": 212,
      "outputs": [
        {
          "output_type": "execute_result",
          "data": {
            "text/plain": [
              "<BarContainer object of 1546 artists>"
            ]
          },
          "metadata": {
            "tags": []
          },
          "execution_count": 212
        },
        {
          "output_type": "display_data",
          "data": {
            "image/png": "[encoded data removed]",
            "text/plain": [
              "<Figure size 432x288 with 1 Axes>"
            ]
          },
          "metadata": {
            "tags": [],
            "needs_background": "light"
          }
        }
      ]
    },
    {
      "cell_type": "code",
      "metadata": {
        "id": "0SdsGfV87t-F"
      },
      "source": [
        ""
      ],
      "execution_count": null,
      "outputs": []
    }
  ]
}