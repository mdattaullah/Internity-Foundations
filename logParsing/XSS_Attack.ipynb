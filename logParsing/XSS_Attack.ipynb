{
  "nbformat": 4,
  "nbformat_minor": 0,
  "metadata": {
    "colab": {
      "name": "XSS Attack.ipynb",
      "provenance": [],
      "collapsed_sections": []
    },
    "kernelspec": {
      "name": "python3",
      "display_name": "Python 3"
    }
  },
  "cells": [
    {
      "cell_type": "code",
      "metadata": {
        "id": "ppxA8mHyAtxO"
      },
      "source": [
        "import pandas as pd\r\n",
        "import requests\r\n",
        "from bs4 import BeautifulSoup as bs"
      ],
      "execution_count": 69,
      "outputs": []
    },
    {
      "cell_type": "code",
      "metadata": {
        "id": "IIVZdNJ1AuZe"
      },
      "source": [
        "url = \"https://github.com/ayedaemon/RuckSack-Python/blob/master/log_analysis/access_log\"\r\n",
        "url1 = \"https://github.com/ayedaemon/RuckSack-Python/blob/master/log_analysis/access_log2\"\r\n",
        "url2 = \"https://github.com/robert456456456456/Web_server_log_parser/blob/master/devops.log\""
      ],
      "execution_count": 73,
      "outputs": []
    },
    {
      "cell_type": "code",
      "metadata": {
        "id": "ODIQUs3KA5s2"
      },
      "source": [
        "def html_to_df(url, clean_empty = False , attrs = {}, helper = None):\r\n",
        "    html_content = requests.get(url).text\r\n",
        "    soup = bs(html_content, \"lxml\")\r\n",
        "    table = str(soup.find(\"table\", attrs=attrs))\r\n",
        "    df = pd.read_html(table)[0]\r\n",
        "    if clean_empty :\r\n",
        "        df = df.loc[:, ~df.isnull().all(axis = 0)]\r\n",
        "    if helper:\r\n",
        "        df = helper(df)   \r\n",
        "    return df"
      ],
      "execution_count": 74,
      "outputs": []
    },
    {
      "cell_type": "code",
      "metadata": {
        "id": "ogckwANfAwAz"
      },
      "source": [
        "df1 = html_to_df(url,clean_empty=True)\r\n",
        "df2 = html_to_df(url1,clean_empty=True)\r\n",
        "df = pd.concat([df1, df2],ignore_index=True)"
      ],
      "execution_count": 75,
      "outputs": []
    },
    {
      "cell_type": "code",
      "metadata": {
        "id": "IBgER-QcB7Lr"
      },
      "source": [
        "def log_parser(str_):\r\n",
        "    find = {}\r\n",
        "    find['User Address'] = str_.split()[0]\r\n",
        "    find['RFC931'] = str_.split()[1]\r\n",
        "    find['User'] = str_.split()[2]\r\n",
        "    find['Date'] = str_.split('[')[1].split()[0]\r\n",
        "    find['GMT'] = str_.split('[')[1].split()[1].strip(']')\r\n",
        "    try:\r\n",
        "        if 'HTTP' in str_.split('\"')[1].split()[-1]:\r\n",
        "            find['Action'] =  str_.split('\"')[1].replace(str_.split('\"')[1].split()[2],'').strip()\r\n",
        "        else:\r\n",
        "            find['Action'] =  str_.split('\"')[1].strip()\r\n",
        "    except:\r\n",
        "        find['Action'] = '-'\r\n",
        "    try:\r\n",
        "        find['Status'] = str_.split('\"')[2].strip().split()[0]\r\n",
        "    except:\r\n",
        "        find['Status'] = '-'\r\n",
        "    try:\r\n",
        "        find['Size'] = str_.split('\"')[2].strip().split()[1]\r\n",
        "    except:\r\n",
        "        find['Size'] = '-'\r\n",
        "    try:\r\n",
        "        find['Referrer'] = str_.strip().split('\"')[3]\r\n",
        "    except:\r\n",
        "        find['Referrer'] ='-'\r\n",
        "    try:\r\n",
        "        find['Browser'] = str_.strip().split('\"')[5]\r\n",
        "    except:\r\n",
        "        find['Browser'] = '-'\r\n",
        "        \r\n",
        "    return find"
      ],
      "execution_count": 76,
      "outputs": []
    },
    {
      "cell_type": "code",
      "metadata": {
        "id": "I5ov6bp0BtAq"
      },
      "source": [
        "def log_df(df, col_name, columns = [] ):\r\n",
        "    df = pd.DataFrame(list(df[col_name].apply(log_parser).values) )\r\n",
        "    if len(df.columns) == len(columns):\r\n",
        "        df.columns = columns\r\n",
        "    return df"
      ],
      "execution_count": 77,
      "outputs": []
    },
    {
      "cell_type": "code",
      "metadata": {
        "colab": {
          "base_uri": "https://localhost:8080/",
          "height": 411
        },
        "id": "oMKv6-jHAxfQ",
        "outputId": "bb42ab82-2a30-4a02-e3a2-b008601b6190"
      },
      "source": [
        "columns = [\"User Address\",\"RFC931\",\"User\",\"Date\",\"GMT\",\"Action\",\"Status\",\"Size\",\"Referrer\",\"Browser\"]\r\n",
        "df = log_df(df, 1, columns)\r\n",
        "df.head()"
      ],
      "execution_count": 78,
      "outputs": [
        {
          "output_type": "execute_result",
          "data": {
            "text/html": [
              "<div>\n",
              "<style scoped>\n",
              "    .dataframe tbody tr th:only-of-type {\n",
              "        vertical-align: middle;\n",
              "    }\n",
              "\n",
              "    .dataframe tbody tr th {\n",
              "        vertical-align: top;\n",
              "    }\n",
              "\n",
              "    .dataframe thead th {\n",
              "        text-align: right;\n",
              "    }\n",
              "</style>\n",
              "<table border=\"1\" class=\"dataframe\">\n",
              "  <thead>\n",
              "    <tr style=\"text-align: right;\">\n",
              "      <th></th>\n",
              "      <th>User Address</th>\n",
              "      <th>RFC931</th>\n",
              "      <th>User</th>\n",
              "      <th>Date</th>\n",
              "      <th>GMT</th>\n",
              "      <th>Action</th>\n",
              "      <th>Status</th>\n",
              "      <th>Size</th>\n",
              "      <th>Referrer</th>\n",
              "      <th>Browser</th>\n",
              "    </tr>\n",
              "  </thead>\n",
              "  <tbody>\n",
              "    <tr>\n",
              "      <th>0</th>\n",
              "      <td>127.0.0.1</td>\n",
              "      <td>-</td>\n",
              "      <td>-</td>\n",
              "      <td>15/Jan/2021:08:54:07</td>\n",
              "      <td>+0000</td>\n",
              "      <td>GET /</td>\n",
              "      <td>403</td>\n",
              "      <td>4006</td>\n",
              "      <td>-</td>\n",
              "      <td>curl/7.61.1</td>\n",
              "    </tr>\n",
              "    <tr>\n",
              "      <th>1</th>\n",
              "      <td>127.0.0.1</td>\n",
              "      <td>-</td>\n",
              "      <td>-</td>\n",
              "      <td>15/Jan/2021:08:55:23</td>\n",
              "      <td>+0000</td>\n",
              "      <td>GET /cgi-bin/weakform.py</td>\n",
              "      <td>403</td>\n",
              "      <td>199</td>\n",
              "      <td>-</td>\n",
              "      <td>curl/7.61.1</td>\n",
              "    </tr>\n",
              "    <tr>\n",
              "      <th>2</th>\n",
              "      <td>127.0.0.1</td>\n",
              "      <td>-</td>\n",
              "      <td>-</td>\n",
              "      <td>15/Jan/2021:09:01:38</td>\n",
              "      <td>+0000</td>\n",
              "      <td>GET /cgi-bin/weak_form.py</td>\n",
              "      <td>200</td>\n",
              "      <td>19</td>\n",
              "      <td>-</td>\n",
              "      <td>curl/7.61.1</td>\n",
              "    </tr>\n",
              "    <tr>\n",
              "      <th>3</th>\n",
              "      <td>172.17.0.1</td>\n",
              "      <td>-</td>\n",
              "      <td>-</td>\n",
              "      <td>15/Jan/2021:09:02:14</td>\n",
              "      <td>+0000</td>\n",
              "      <td>GET /</td>\n",
              "      <td>403</td>\n",
              "      <td>4288</td>\n",
              "      <td>-</td>\n",
              "      <td>Mozilla/5.0 (X11; Linux x86_64; rv:84.0) Gecko...</td>\n",
              "    </tr>\n",
              "    <tr>\n",
              "      <th>4</th>\n",
              "      <td>172.17.0.1</td>\n",
              "      <td>-</td>\n",
              "      <td>-</td>\n",
              "      <td>15/Jan/2021:09:02:15</td>\n",
              "      <td>+0000</td>\n",
              "      <td>GET /noindex/common/css/bootstrap.min.css</td>\n",
              "      <td>200</td>\n",
              "      <td>99548</td>\n",
              "      <td>http://172.17.0.2/</td>\n",
              "      <td>Mozilla/5.0 (X11; Linux x86_64; rv:84.0) Gecko...</td>\n",
              "    </tr>\n",
              "  </tbody>\n",
              "</table>\n",
              "</div>"
            ],
            "text/plain": [
              "  User Address  ...                                            Browser\n",
              "0    127.0.0.1  ...                                        curl/7.61.1\n",
              "1    127.0.0.1  ...                                        curl/7.61.1\n",
              "2    127.0.0.1  ...                                        curl/7.61.1\n",
              "3   172.17.0.1  ...  Mozilla/5.0 (X11; Linux x86_64; rv:84.0) Gecko...\n",
              "4   172.17.0.1  ...  Mozilla/5.0 (X11; Linux x86_64; rv:84.0) Gecko...\n",
              "\n",
              "[5 rows x 10 columns]"
            ]
          },
          "metadata": {
            "tags": []
          },
          "execution_count": 78
        }
      ]
    },
    {
      "cell_type": "code",
      "metadata": {
        "id": "Q4hJKJC8CNR9"
      },
      "source": [
        "def find_XSS(str_):\r\n",
        "    flag = 0\r\n",
        "    l1 = ['<','>','\\\\','`']\r\n",
        "    l2 = ['/',')','(']\r\n",
        "    for char in l1:\r\n",
        "        ascii_encoding = '%' + hex(ord(char)).replace('0x', '')\r\n",
        "        if (char in str_) or (ascii_encoding in str_):\r\n",
        "            flag = 1\r\n",
        "            break\r\n",
        "    if flag != 1:\r\n",
        "        try:\r\n",
        "            req_str = ''.join(str_.split('?')[1 : ])\r\n",
        "            for char in l2:\r\n",
        "                ascii_encoding = '%' + hex(ord(char)).replace('0x', '')\r\n",
        "                if (char in req_str) or (ascii_encoding in req_str):\r\n",
        "                    flag = 1\r\n",
        "                    break\r\n",
        "        except:\r\n",
        "            pass\r\n",
        "    return bool(flag)"
      ],
      "execution_count": 79,
      "outputs": []
    },
    {
      "cell_type": "code",
      "metadata": {
        "id": "MnZtsZ5VAyyL"
      },
      "source": [
        "df['XSS Attack'] = df['Action'].apply(find_XSS)"
      ],
      "execution_count": 80,
      "outputs": []
    },
    {
      "cell_type": "code",
      "metadata": {
        "colab": {
          "base_uri": "https://localhost:8080/"
        },
        "id": "o3DN-dSPCP9m",
        "outputId": "b0311106-50aa-4169-c0e0-efb714c7e594"
      },
      "source": [
        "df[df[\"XSS Attack\"] == True].count()"
      ],
      "execution_count": 81,
      "outputs": [
        {
          "output_type": "execute_result",
          "data": {
            "text/plain": [
              "User Address    48\n",
              "RFC931          48\n",
              "User            48\n",
              "Date            48\n",
              "GMT             48\n",
              "Action          48\n",
              "Status          48\n",
              "Size            48\n",
              "Referrer        48\n",
              "Browser         48\n",
              "XSS Attack      48\n",
              "dtype: int64"
            ]
          },
          "metadata": {
            "tags": []
          },
          "execution_count": 81
        }
      ]
    },
    {
      "cell_type": "code",
      "metadata": {
        "id": "IvnDmzYNCXN8"
      },
      "source": [
        ""
      ],
      "execution_count": null,
      "outputs": []
    }
  ]
}